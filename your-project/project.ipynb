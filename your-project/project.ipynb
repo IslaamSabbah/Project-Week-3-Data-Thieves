{
 "cells": [
  {
   "cell_type": "code",
   "execution_count": 160,
   "metadata": {},
   "outputs": [],
   "source": [
    "from police_api import PoliceAPI\n",
    "import pandas as pd\n",
    "import re"
   ]
  },
  {
   "cell_type": "code",
   "execution_count": 161,
   "metadata": {},
   "outputs": [],
   "source": [
    "api = PoliceAPI()"
   ]
  },
  {
   "cell_type": "code",
   "execution_count": 162,
   "metadata": {},
   "outputs": [
    {
     "data": {
      "text/plain": "[<Force> Avon and Somerset Constabulary,\n <Force> Bedfordshire Police,\n <Force> Cambridgeshire Constabulary,\n <Force> Cheshire Constabulary,\n <Force> City of London Police,\n <Force> Cleveland Police,\n <Force> Cumbria Constabulary,\n <Force> Derbyshire Constabulary,\n <Force> Devon & Cornwall Police,\n <Force> Dorset Police,\n <Force> Durham Constabulary,\n <Force> Dyfed-Powys Police,\n <Force> Essex Police,\n <Force> Gloucestershire Constabulary,\n <Force> Greater Manchester Police,\n <Force> Gwent Police,\n <Force> Hampshire Constabulary,\n <Force> Hertfordshire Constabulary,\n <Force> Humberside Police,\n <Force> Kent Police,\n <Force> Lancashire Constabulary,\n <Force> Leicestershire Police,\n <Force> Lincolnshire Police,\n <Force> Merseyside Police,\n <Force> Metropolitan Police Service,\n <Force> Norfolk Constabulary,\n <Force> North Wales Police,\n <Force> North Yorkshire Police,\n <Force> Northamptonshire Police,\n <Force> Northumbria Police,\n <Force> Nottinghamshire Police,\n <Force> Police Service of Northern Ireland,\n <Force> South Wales Police,\n <Force> South Yorkshire Police,\n <Force> Staffordshire Police,\n <Force> Suffolk Constabulary,\n <Force> Surrey Police,\n <Force> Sussex Police,\n <Force> Thames Valley Police,\n <Force> Warwickshire Police,\n <Force> West Mercia Police,\n <Force> West Midlands Police,\n <Force> West Yorkshire Police,\n <Force> Wiltshire Police]"
     },
     "execution_count": 162,
     "metadata": {},
     "output_type": "execute_result"
    }
   ],
   "source": [
    "all_forces = api.get_forces()     #finding all england forces\n",
    "all_forces"
   ]
  },
  {
   "cell_type": "code",
   "execution_count": 163,
   "metadata": {},
   "outputs": [
    {
     "data": {
      "text/plain": "<Force> Metropolitan Police Service"
     },
     "execution_count": 163,
     "metadata": {},
     "output_type": "execute_result"
    }
   ],
   "source": [
    "london_force = all_forces[24] #FINDING FORCES FOR LONDON\n",
    "london_force"
   ]
  },
  {
   "cell_type": "code",
   "execution_count": 164,
   "metadata": {},
   "outputs": [
    {
     "data": {
      "text/plain": "658"
     },
     "execution_count": 164,
     "metadata": {},
     "output_type": "execute_result"
    }
   ],
   "source": [
    "london_nei = london_force.neighbourhoods     #getting neighbourhoods in london\n",
    "len(london_nei)"
   ]
  },
  {
   "cell_type": "code",
   "execution_count": 165,
   "metadata": {},
   "outputs": [
    {
     "data": {
      "text/html": "<div>\n<style scoped>\n    .dataframe tbody tr th:only-of-type {\n        vertical-align: middle;\n    }\n\n    .dataframe tbody tr th {\n        vertical-align: top;\n    }\n\n    .dataframe thead th {\n        text-align: right;\n    }\n</style>\n<table border=\"1\" class=\"dataframe\">\n  <thead>\n    <tr style=\"text-align: right;\">\n      <th></th>\n      <th>code</th>\n    </tr>\n  </thead>\n  <tbody>\n    <tr>\n      <th>0</th>\n      <td>&lt;Neighbourhood&gt; E05000026</td>\n    </tr>\n    <tr>\n      <th>1</th>\n      <td>&lt;Neighbourhood&gt; E05000455</td>\n    </tr>\n    <tr>\n      <th>2</th>\n      <td>&lt;Neighbourhood&gt; E05000630</td>\n    </tr>\n    <tr>\n      <th>3</th>\n      <td>&lt;Neighbourhood&gt; E05000214</td>\n    </tr>\n    <tr>\n      <th>4</th>\n      <td>&lt;Neighbourhood&gt; E05009388</td>\n    </tr>\n  </tbody>\n</table>\n</div>",
      "text/plain": "                        code\n0  <Neighbourhood> E05000026\n1  <Neighbourhood> E05000455\n2  <Neighbourhood> E05000630\n3  <Neighbourhood> E05000214\n4  <Neighbourhood> E05009388"
     },
     "execution_count": 165,
     "metadata": {},
     "output_type": "execute_result"
    }
   ],
   "source": [
    "df_code = pd.DataFrame({'code': london_nei})       #data frame with NH code\n",
    "df_code.head()"
   ]
  },
  {
   "cell_type": "code",
   "execution_count": 166,
   "metadata": {},
   "outputs": [
    {
     "data": {
      "text/html": "<div>\n<style scoped>\n    .dataframe tbody tr th:only-of-type {\n        vertical-align: middle;\n    }\n\n    .dataframe tbody tr th {\n        vertical-align: top;\n    }\n\n    .dataframe thead th {\n        text-align: right;\n    }\n</style>\n<table border=\"1\" class=\"dataframe\">\n  <thead>\n    <tr style=\"text-align: right;\">\n      <th></th>\n      <th>code</th>\n      <th>Neighbourhood</th>\n    </tr>\n  </thead>\n  <tbody>\n    <tr>\n      <th>0</th>\n      <td>&lt;Neighbourhood&gt; E05000026</td>\n      <td>Abbey</td>\n    </tr>\n    <tr>\n      <th>1</th>\n      <td>&lt;Neighbourhood&gt; E05000455</td>\n      <td>Abbey</td>\n    </tr>\n    <tr>\n      <th>2</th>\n      <td>&lt;Neighbourhood&gt; E05000630</td>\n      <td>Abbey Road</td>\n    </tr>\n    <tr>\n      <th>3</th>\n      <td>&lt;Neighbourhood&gt; E05000214</td>\n      <td>Abbey Wood</td>\n    </tr>\n    <tr>\n      <th>4</th>\n      <td>&lt;Neighbourhood&gt; E05009388</td>\n      <td>Abingdon</td>\n    </tr>\n  </tbody>\n</table>\n</div>",
      "text/plain": "                        code Neighbourhood\n0  <Neighbourhood> E05000026         Abbey\n1  <Neighbourhood> E05000455         Abbey\n2  <Neighbourhood> E05000630    Abbey Road\n3  <Neighbourhood> E05000214    Abbey Wood\n4  <Neighbourhood> E05009388      Abingdon"
     },
     "execution_count": 166,
     "metadata": {},
     "output_type": "execute_result"
    }
   ],
   "source": [
    "df_code['Neighbourhood'] = df_code.apply(lambda x: x['code'].name, axis=1) \n",
    "    #importing neighbourhood names in the dataframe\n",
    "#df_code.drop(columns=[0],inplace=True) \n",
    "#df_code.set_index('code',inplace=True)\n",
    "#df['Neighbourhood'].crimes[1]\n",
    "df_code.head()"
   ]
  },
  {
   "cell_type": "code",
   "execution_count": 167,
   "metadata": {},
   "outputs": [
    {
     "data": {
      "text/plain": "[<Crime> 77680353,\n <Crime> 77680354,\n <Crime> 77680372,\n <Crime> 77680373,\n <Crime> 77680374,\n <Crime> 77680375,\n <Crime> 77680376,\n <Crime> 77680377,\n <Crime> 77680378,\n <Crime> 77680379,\n <Crime> 77680380,\n <Crime> 77680382,\n <Crime> 77680384,\n <Crime> 77680385,\n <Crime> 77680386,\n <Crime> 77680387,\n <Crime> 77680388,\n <Crime> 77680391,\n <Crime> 77680392,\n <Crime> 77680393,\n <Crime> 77680394,\n <Crime> 77680395,\n <Crime> 77680427,\n <Crime> 77680383,\n <Crime> 77680411,\n <Crime> 77680428,\n <Crime> 77680396,\n <Crime> 77680397,\n <Crime> 77680401,\n <Crime> 77680402,\n <Crime> 77680403,\n <Crime> 77680404,\n <Crime> 77680406,\n <Crime> 77680407,\n <Crime> 77680408,\n <Crime> 77680410,\n <Crime> 77687171,\n <Crime> 77680413,\n <Crime> 77680414,\n <Crime> 77680417,\n <Crime> 77680418,\n <Crime> 77680419,\n <Crime> 77680420,\n <Crime> 77680421,\n <Crime> 77680422,\n <Crime> 77680423,\n <Crime> 77680424,\n <Crime> 77680425,\n <Crime> 77680426,\n <Crime> 77711324,\n <Crime> 77746611,\n <Crime> 77710891,\n <Crime> 77761259,\n <Crime> 77723891,\n <Crime> 77756422,\n <Crime> 77723941,\n <Crime> 77713224,\n <Crime> 77760293,\n <Crime> 77746781,\n <Crime> 77732647,\n <Crime> 77734372,\n <Crime> 77713735,\n <Crime> 77695967,\n <Crime> 77708379,\n <Crime> 77700999,\n <Crime> 77701559,\n <Crime> 77712078,\n <Crime> 77760865,\n <Crime> 77757578,\n <Crime> 77759699,\n <Crime> 77754640,\n <Crime> 77754644,\n <Crime> 77754642,\n <Crime> 77754338,\n <Crime> 77756344,\n <Crime> 77754031,\n <Crime> 77757755,\n <Crime> 77753058,\n <Crime> 77759700,\n <Crime> 77759637,\n <Crime> 77757667,\n <Crime> 77752595,\n <Crime> 77748527,\n <Crime> 77759785,\n <Crime> 77752008,\n <Crime> 77712437,\n <Crime> 77721091,\n <Crime> 77712942,\n <Crime> 77709085,\n <Crime> 77695681,\n <Crime> 77710803,\n <Crime> 77733785,\n <Crime> 77722662,\n <Crime> 77741839,\n <Crime> 77740663,\n <Crime> 77739367,\n <Crime> 77713613,\n <Crime> 77698122,\n <Crime> 77697403,\n <Crime> 77695971,\n <Crime> 77745981,\n <Crime> 77699900,\n <Crime> 77707116,\n <Crime> 77734488,\n <Crime> 77735465,\n <Crime> 77702358,\n <Crime> 77749301,\n <Crime> 77705862,\n <Crime> 77731350,\n <Crime> 77735411,\n <Crime> 77711112,\n <Crime> 77749145,\n <Crime> 77744173,\n <Crime> 77745662,\n <Crime> 77719748,\n <Crime> 77721296,\n <Crime> 77734611,\n <Crime> 77735139,\n <Crime> 77733409,\n <Crime> 77745113,\n <Crime> 77708935,\n <Crime> 77745112,\n <Crime> 77743853,\n <Crime> 77729087,\n <Crime> 77707607,\n <Crime> 77696320,\n <Crime> 77698974,\n <Crime> 77709200,\n <Crime> 77741921,\n <Crime> 77722301,\n <Crime> 77719863,\n <Crime> 77738885,\n <Crime> 77735609,\n <Crime> 77704587,\n <Crime> 77712594,\n <Crime> 77750088,\n <Crime> 77711296,\n <Crime> 77733767,\n <Crime> 77746293,\n <Crime> 77737835,\n <Crime> 77737643,\n <Crime> 77714059,\n <Crime> 77709707,\n <Crime> 77723288,\n <Crime> 77715669,\n <Crime> 77704405,\n <Crime> 77749237,\n <Crime> 77741184,\n <Crime> 77722051,\n <Crime> 77712943,\n <Crime> 77737120,\n <Crime> 77707670,\n <Crime> 77732051,\n <Crime> 77709372,\n <Crime> 77706998,\n <Crime> 77710820,\n <Crime> 77747929,\n <Crime> 77749371,\n <Crime> 77708078,\n <Crime> 77716249,\n <Crime> 77709726,\n <Crime> 77709266,\n <Crime> 77709368,\n <Crime> 77713343,\n <Crime> 77733443,\n <Crime> 77743656,\n <Crime> 77740071,\n <Crime> 77742788,\n <Crime> 77720086,\n <Crime> 77740027,\n <Crime> 77696243,\n <Crime> 77710473,\n <Crime> 77713793,\n <Crime> 77712344,\n <Crime> 77743396,\n <Crime> 77725458,\n <Crime> 77720099,\n <Crime> 77697296,\n <Crime> 77724070,\n <Crime> 77725574,\n <Crime> 77708337,\n <Crime> 77734140,\n <Crime> 77734267,\n <Crime> 77720740,\n <Crime> 77720316,\n <Crime> 77736578,\n <Crime> 77719578,\n <Crime> 77704763,\n <Crime> 77704762,\n <Crime> 77734262,\n <Crime> 77733875,\n <Crime> 77715492,\n <Crime> 77744623,\n <Crime> 77736508,\n <Crime> 77709511,\n <Crime> 77709658,\n <Crime> 77734736,\n <Crime> 77734601,\n <Crime> 77731024,\n <Crime> 77730916,\n <Crime> 77721563,\n <Crime> 77720711,\n <Crime> 77720986,\n <Crime> 77722894,\n <Crime> 77747233,\n <Crime> 77750236,\n <Crime> 77750621,\n <Crime> 77749434,\n <Crime> 77748165,\n <Crime> 77745008,\n <Crime> 77745035,\n <Crime> 77744884,\n <Crime> 77755133,\n <Crime> 77745382,\n <Crime> 77742017,\n <Crime> 77742183,\n <Crime> 77741086,\n <Crime> 77747695,\n <Crime> 77748214,\n <Crime> 77738270,\n <Crime> 77737072,\n <Crime> 77737292,\n <Crime> 77704695,\n <Crime> 77704158,\n <Crime> 77756227,\n <Crime> 77757118,\n <Crime> 77712991,\n <Crime> 77712755,\n <Crime> 77757375,\n <Crime> 77757735,\n <Crime> 77710622,\n <Crime> 77708921,\n <Crime> 77717560,\n <Crime> 77700892,\n <Crime> 77715140,\n <Crime> 77708232,\n <Crime> 77707248,\n <Crime> 77736028,\n <Crime> 77697681,\n <Crime> 77749972,\n <Crime> 77697167,\n <Crime> 77696631,\n <Crime> 77725320,\n <Crime> 77716555,\n <Crime> 77755781,\n <Crime> 77741009,\n <Crime> 77721365,\n <Crime> 77711543,\n <Crime> 77712162,\n <Crime> 77712406,\n <Crime> 77724947,\n <Crime> 77725095,\n <Crime> 77725459,\n <Crime> 77719253,\n <Crime> 77719254,\n <Crime> 77720509,\n <Crime> 77721364,\n <Crime> 77744321,\n <Crime> 77746660,\n <Crime> 77736082,\n <Crime> 77735763,\n <Crime> 77735801,\n <Crime> 77735495,\n <Crime> 77734670,\n <Crime> 77758963,\n <Crime> 77760009]"
     },
     "execution_count": 167,
     "metadata": {},
     "output_type": "execute_result"
    }
   ],
   "source": [
    "df_code['code'][0].crimes"
   ]
  },
  {
   "cell_type": "code",
   "execution_count": 168,
   "metadata": {},
   "outputs": [
    {
     "data": {
      "text/html": "<div>\n<style scoped>\n    .dataframe tbody tr th:only-of-type {\n        vertical-align: middle;\n    }\n\n    .dataframe tbody tr th {\n        vertical-align: top;\n    }\n\n    .dataframe thead th {\n        text-align: right;\n    }\n</style>\n<table border=\"1\" class=\"dataframe\">\n  <thead>\n    <tr style=\"text-align: right;\">\n      <th></th>\n      <th>code</th>\n      <th>Neighbourhood</th>\n    </tr>\n  </thead>\n  <tbody>\n    <tr>\n      <th>0</th>\n      <td>E05000026</td>\n      <td>Abbey</td>\n    </tr>\n    <tr>\n      <th>1</th>\n      <td>E05000455</td>\n      <td>Abbey</td>\n    </tr>\n    <tr>\n      <th>2</th>\n      <td>E05000630</td>\n      <td>Abbey Road</td>\n    </tr>\n    <tr>\n      <th>3</th>\n      <td>E05000214</td>\n      <td>Abbey Wood</td>\n    </tr>\n    <tr>\n      <th>4</th>\n      <td>E05009388</td>\n      <td>Abingdon</td>\n    </tr>\n    <tr>\n      <th>...</th>\n      <td>...</td>\n      <td>...</td>\n    </tr>\n    <tr>\n      <th>653</th>\n      <td>E05000230</td>\n      <td>Woolwich Riverside</td>\n    </tr>\n    <tr>\n      <th>654</th>\n      <td>E05000572</td>\n      <td>Worcester Park</td>\n    </tr>\n    <tr>\n      <th>655</th>\n      <td>E05000265</td>\n      <td>Wormholt and White City</td>\n    </tr>\n    <tr>\n      <th>656</th>\n      <td>E05000344</td>\n      <td>Yeading</td>\n    </tr>\n    <tr>\n      <th>657</th>\n      <td>E05000345</td>\n      <td>Yiewsley</td>\n    </tr>\n  </tbody>\n</table>\n<p>658 rows × 2 columns</p>\n</div>",
      "text/plain": "           code            Neighbourhood\n0     E05000026                    Abbey\n1     E05000455                    Abbey\n2     E05000630               Abbey Road\n3     E05000214               Abbey Wood\n4     E05009388                 Abingdon\n..          ...                      ...\n653   E05000230       Woolwich Riverside\n654   E05000572           Worcester Park\n655   E05000265  Wormholt and White City\n656   E05000344                  Yeading\n657   E05000345                 Yiewsley\n\n[658 rows x 2 columns]"
     },
     "execution_count": 168,
     "metadata": {},
     "output_type": "execute_result"
    }
   ],
   "source": [
    "df_code.code=df_code.code.astype(str)\n",
    "df_code['code']=df_code['code'].apply(lambda x:x.split(\">\")[1])\n",
    "df_code"
   ]
  },
  {
   "cell_type": "code",
   "execution_count": 0,
   "metadata": {},
   "outputs": [],
   "source": []
  },
  {
   "cell_type": "code",
   "execution_count": 102,
   "metadata": {},
   "outputs": [],
   "source": []
  },
  {
   "cell_type": "code",
   "execution_count": 169,
   "metadata": {},
   "outputs": [],
   "source": [
    "new_crimes=[]\n",
    "neighb=[]\n",
    "officers=[]\n",
    "for i in london_nei:\n",
    "    officers.append(i.officers)    \n",
    "    for j in i.crimes:       \n",
    "        neighb.append(i.name)\n",
    "        new_crimes.append(j.category)\n",
    "\n",
    "#print(new_crimes)\n",
    "#print(neighb)\n",
    "df_crimes=pd.DataFrame(neighb)\n",
    "df_crimes['crimes']=new_crimes\n",
    "df_neii\n",
    "#new_list\n",
    "#london_nei[2].crimes[2]\n",
    "#df_crime=pd.DataFrame()\n",
    "#df_crime"
   ]
  },
  {
   "cell_type": "code",
   "execution_count": 0,
   "metadata": {},
   "outputs": [],
   "source": [
    "df_crimes.crimes=df_crimes.crimes.astype(str)\n",
    "df_crimes['crimes']=df_crimes['crimes'].apply(lambda x:x.split(\">\")[1])"
   ]
  },
  {
   "cell_type": "code",
   "execution_count": 0,
   "metadata": {},
   "outputs": [],
   "source": [
    "df_crimes.rename(columns={0:'Neighbourhood'},inplace=True)\n",
    "df_crimes.crimes.unique()"
   ]
  },
  {
   "cell_type": "code",
   "execution_count": 0,
   "metadata": {},
   "outputs": [],
   "source": [
    "df_crimes"
   ]
  },
  {
   "cell_type": "code",
   "execution_count": 0,
   "metadata": {},
   "outputs": [],
   "source": [
    "abb = london_nei[0]#EXAMPLE OF ABBEY\n",
    "abb.name\n",
    "df_nei=pd.DataFrame({'code': london_nei})\n",
    "df_nei"
   ]
  },
  {
   "cell_type": "code",
   "execution_count": 0,
   "metadata": {},
   "outputs": [],
   "source": [
    "neighbourhoods = london_force.neighbourhoods\n",
    "neighbourhoods_names = [for neighbourhood in neighbourhoods]"
   ]
  },
  {
   "cell_type": "code",
   "execution_count": 0,
   "metadata": {},
   "outputs": [],
   "source": [
    "test = df_code.merge(df_crimes, how='right').groupby(['crimes','Neighbourhood']).count()"
   ]
  },
  {
   "cell_type": "code",
   "execution_count": 0,
   "metadata": {},
   "outputs": [],
   "source": [
    "for n in df_nei[0]:\n",
    "    n.crimes\n",
    "    "
   ]
  },
  {
   "cell_type": "code",
   "execution_count": 0,
   "metadata": {},
   "outputs": [],
   "source": [
    "test"
   ]
  },
  {
   "cell_type": "code",
   "execution_count": 0,
   "metadata": {},
   "outputs": [],
   "source": [
    "test.reset_index(level=1, inplace=True)  "
   ]
  },
  {
   "cell_type": "code",
   "execution_count": 0,
   "metadata": {},
   "outputs": [],
   "source": [
    "test.head()"
   ]
  },
  {
   "cell_type": "code",
   "execution_count": 0,
   "metadata": {},
   "outputs": [],
   "source": [
    "test.loc[' Anti-social behaviour']"
   ]
  },
  {
   "cell_type": "code",
   "execution_count": 0,
   "metadata": {},
   "outputs": [],
   "source": [
    "test.index"
   ]
  },
  {
   "cell_type": "code",
   "execution_count": 0,
   "metadata": {},
   "outputs": [],
   "source": [
    "df_officers=pd.DataFrame(neighb)\n",
    "df_officers['officers']=officers\n",
    "df_officers"
   ]
  },
  {
   "cell_type": "code",
   "execution_count": null,
   "metadata": {},
   "outputs": [],
   "source": []
  }
 ],
 "metadata": {
  "file_extension": ".py",
  "kernelspec": {
   "display_name": "Python 3",
   "language": "python",
   "name": "python3"
  },
  "language_info": {
   "codemirror_mode": {
    "name": "ipython",
    "version": 3
   },
   "file_extension": ".py",
   "mimetype": "text/x-python",
   "name": "python",
   "nbconvert_exporter": "python",
   "pygments_lexer": "ipython3",
   "version": "3.7.4"
  },
  "mimetype": "text/x-python",
  "name": "python",
  "npconvert_exporter": "python",
  "pygments_lexer": "ipython3",
  "version": 3
 },
 "nbformat": 4,
 "nbformat_minor": 2
}